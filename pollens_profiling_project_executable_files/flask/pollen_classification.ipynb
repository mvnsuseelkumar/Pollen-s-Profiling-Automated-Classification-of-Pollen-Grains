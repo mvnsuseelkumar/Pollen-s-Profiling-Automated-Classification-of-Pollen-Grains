{
 "cells": [
  {
   "cell_type": "code",
   "id": "cfa4156f",
   "metadata": {
    "executionInfo": {
     "elapsed": 66,
     "status": "ok",
     "timestamp": 1750933215935,
     "user": {
      "displayName": "m suseel",
      "userId": "01088006816334895188"
     },
     "user_tz": -330
    },
    "id": "cfa4156f",
    "ExecuteTime": {
     "end_time": "2025-06-27T12:00:53.662976Z",
     "start_time": "2025-06-27T12:00:53.656860Z"
    }
   },
   "source": [
    "# !pip install numpy pandas matplotlib opencv-python scikit-learn tensorflow\n",
    "# !pip install tqdm\n"
   ],
   "outputs": [],
   "execution_count": 2
  },
  {
   "cell_type": "code",
   "id": "8e97f091",
   "metadata": {
    "executionInfo": {
     "elapsed": 3603,
     "status": "ok",
     "timestamp": 1750933221576,
     "user": {
      "displayName": "m suseel",
      "userId": "01088006816334895188"
     },
     "user_tz": -330
    },
    "id": "8e97f091",
    "ExecuteTime": {
     "end_time": "2025-06-27T12:01:14.675563Z",
     "start_time": "2025-06-27T12:00:57.396906Z"
    }
   },
   "source": [
    "\n",
    "\n",
    "import os\n",
    "import cv2\n",
    "import numpy as np\n",
    "import pandas as pd\n",
    "import matplotlib.pyplot as plt\n",
    "from tqdm import tqdm\n",
    "from PIL import Image\n",
    "from sklearn.model_selection import train_test_split\n",
    "from sklearn.preprocessing import LabelEncoder\n",
    "from sklearn.metrics import classification_report, confusion_matrix\n",
    "from tensorflow.keras.models import Sequential\n",
    "from tensorflow.keras.layers import Conv2D, MaxPooling2D, Flatten, Dense, Dropout\n",
    "from tensorflow.keras.optimizers import Adam\n",
    "from tensorflow.keras.preprocessing.image import ImageDataGenerator, load_img, img_to_array\n",
    "from tensorflow.keras.callbacks import EarlyStopping, ModelCheckpoint\n",
    "from keras.utils import to_categorical\n"
   ],
   "outputs": [],
   "execution_count": 3
  },
  {
   "cell_type": "code",
   "id": "eee500eb",
   "metadata": {
    "executionInfo": {
     "elapsed": 510,
     "status": "ok",
     "timestamp": 1750933222132,
     "user": {
      "displayName": "m suseel",
      "userId": "01088006816334895188"
     },
     "user_tz": -330
    },
    "id": "eee500eb",
    "ExecuteTime": {
     "end_time": "2025-06-27T12:01:58.687559Z",
     "start_time": "2025-06-27T12:01:58.584329Z"
    }
   },
   "source": [
    "base_path = \"../pollen_dataset\"\n",
    "images_path = os.path.join(base_path, \"images\")\n",
    "bbox_csv = os.path.join(base_path, \"bboxes.csv\")\n",
    "class_map_csv = os.path.join(base_path, \"class_map.csv\")\n",
    "# Load CSVs\n",
    "bboxes_df = pd.read_csv(bbox_csv)\n",
    "class_map_df = pd.read_csv(class_map_csv)\n",
    "\n",
    "# Clean column names if needed\n",
    "bboxes_df.columns = [\"filename\", \"xmin\", \"ymin\", \"xmax\", \"ymax\", \"class_name\"]\n"
   ],
   "outputs": [],
   "execution_count": 4
  },
  {
   "cell_type": "code",
   "id": "76920680",
   "metadata": {
    "colab": {
     "base_uri": "https://localhost:8080/"
    },
    "executionInfo": {
     "elapsed": 705045,
     "status": "ok",
     "timestamp": 1750933927229,
     "user": {
      "displayName": "m suseel",
      "userId": "01088006816334895188"
     },
     "user_tz": -330
    },
    "id": "76920680",
    "outputId": "1adfa8d9-f95f-47e2-dd01-87fe602035ee",
    "ExecuteTime": {
     "end_time": "2025-06-27T12:03:17.358653Z",
     "start_time": "2025-06-27T12:02:05.162759Z"
    }
   },
   "source": [
    "X, Y = [], []\n",
    "for i, row in tqdm(bboxes_df.iterrows(), total=len(bboxes_df)):\n",
    "    image_file = os.path.join(images_path, row[\"filename\"])\n",
    "    if not os.path.exists(image_file):\n",
    "        continue\n",
    "\n",
    "    img = cv2.imread(image_file)\n",
    "    if img is None:\n",
    "        continue\n",
    "\n",
    "    x1, y1, x2, y2 = int(row[\"xmin\"]), int(row[\"ymin\"]), int(row[\"xmax\"]), int(row[\"ymax\"])\n",
    "    cropped_img = img[y1:y2, x1:x2]\n",
    "    try:\n",
    "        resized = cv2.resize(cropped_img, (128, 128))\n",
    "    except:\n",
    "        continue\n",
    "    normalized = resized / 255.0\n",
    "\n",
    "    X.append(normalized)\n",
    "    Y.append(row[\"class_name\"])\n",
    "\n",
    "X = np.array(X)\n",
    "Y = np.array(Y)\n"
   ],
   "outputs": [
    {
     "name": "stderr",
     "output_type": "stream",
     "text": [
      "100%|██████████| 7743/7743 [01:01<00:00, 125.03it/s]\n"
     ]
    }
   ],
   "execution_count": 5
  },
  {
   "metadata": {
    "ExecuteTime": {
     "end_time": "2025-06-27T12:03:42.757713Z",
     "start_time": "2025-06-27T12:03:42.744463Z"
    }
   },
   "cell_type": "code",
   "source": "import pickle",
   "id": "26d3a9c70d29ff08",
   "outputs": [],
   "execution_count": 6
  },
  {
   "cell_type": "code",
   "id": "48a12115",
   "metadata": {
    "colab": {
     "base_uri": "https://localhost:8080/"
    },
    "executionInfo": {
     "elapsed": 1305,
     "status": "ok",
     "timestamp": 1750933928544,
     "user": {
      "displayName": "m suseel",
      "userId": "01088006816334895188"
     },
     "user_tz": -330
    },
    "id": "48a12115",
    "outputId": "4a12af37-b636-4635-cdee-391414fdf086",
    "ExecuteTime": {
     "end_time": "2025-06-27T12:06:29.414017Z",
     "start_time": "2025-06-27T12:06:27.562383Z"
    }
   },
   "source": [
    "le = LabelEncoder()\n",
    "Y_le = le.fit_transform(Y)\n",
    "\n",
    "with open(\"labelencoder.pkl\",\"wb\") as f:\n",
    "    pickle.dump(le,f)\n",
    "\n",
    "Y_cat = to_categorical(Y_le, len(le.classes_))\n",
    "\n",
    "X_train, X_test, Y_train, Y_test = train_test_split(\n",
    "    X, Y_cat, test_size=0.2, stratify=Y_le, random_state=42)\n",
    "\n",
    "print(f\"Images in test set (per class): {np.sum(Y_test, axis=0)}\")\n"
   ],
   "outputs": [
    {
     "name": "stdout",
     "output_type": "stream",
     "text": [
      "Images in test set (per class): [ 94.  95.  71. 133.  43.  64.  73.  43.  15. 132.  68. 232.  47.  24.\n",
      "  46.  63.  46.  43.  54. 163.]\n"
     ]
    }
   ],
   "execution_count": 7
  },
  {
   "cell_type": "code",
   "execution_count": 8,
   "id": "9f1252cf",
   "metadata": {
    "colab": {
     "base_uri": "https://localhost:8080/",
     "height": 664
    },
    "executionInfo": {
     "elapsed": 3349,
     "status": "ok",
     "timestamp": 1750933931900,
     "user": {
      "displayName": "m suseel",
      "userId": "01088006816334895188"
     },
     "user_tz": -330
    },
    "id": "9f1252cf",
    "outputId": "ede8dd52-1593-447b-91cb-49387a921a34"
   },
   "outputs": [
    {
     "name": "stderr",
     "output_type": "stream",
     "text": [
      "/usr/local/lib/python3.11/dist-packages/keras/src/layers/convolutional/base_conv.py:107: UserWarning: Do not pass an `input_shape`/`input_dim` argument to a layer. When using Sequential models, prefer using an `Input(shape)` object as the first layer in the model instead.\n",
      "  super().__init__(activity_regularizer=activity_regularizer, **kwargs)\n"
     ]
    },
    {
     "data": {
      "text/html": [
       "<pre style=\"white-space:pre;overflow-x:auto;line-height:normal;font-family:Menlo,'DejaVu Sans Mono',consolas,'Courier New',monospace\"><span style=\"font-weight: bold\">Model: \"sequential\"</span>\n",
       "</pre>\n"
      ],
      "text/plain": [
       "\u001B[1mModel: \"sequential\"\u001B[0m\n"
      ]
     },
     "metadata": {},
     "output_type": "display_data"
    },
    {
     "data": {
      "text/html": [
       "<pre style=\"white-space:pre;overflow-x:auto;line-height:normal;font-family:Menlo,'DejaVu Sans Mono',consolas,'Courier New',monospace\">┏━━━━━━━━━━━━━━━━━━━━━━━━━━━━━━━━━┳━━━━━━━━━━━━━━━━━━━━━━━━┳━━━━━━━━━━━━━━━┓\n",
       "┃<span style=\"font-weight: bold\"> Layer (type)                    </span>┃<span style=\"font-weight: bold\"> Output Shape           </span>┃<span style=\"font-weight: bold\">       Param # </span>┃\n",
       "┡━━━━━━━━━━━━━━━━━━━━━━━━━━━━━━━━━╇━━━━━━━━━━━━━━━━━━━━━━━━╇━━━━━━━━━━━━━━━┩\n",
       "│ conv2d (<span style=\"color: #0087ff; text-decoration-color: #0087ff\">Conv2D</span>)                 │ (<span style=\"color: #00d7ff; text-decoration-color: #00d7ff\">None</span>, <span style=\"color: #00af00; text-decoration-color: #00af00\">128</span>, <span style=\"color: #00af00; text-decoration-color: #00af00\">128</span>, <span style=\"color: #00af00; text-decoration-color: #00af00\">16</span>)   │           <span style=\"color: #00af00; text-decoration-color: #00af00\">448</span> │\n",
       "├─────────────────────────────────┼────────────────────────┼───────────────┤\n",
       "│ max_pooling2d (<span style=\"color: #0087ff; text-decoration-color: #0087ff\">MaxPooling2D</span>)    │ (<span style=\"color: #00d7ff; text-decoration-color: #00d7ff\">None</span>, <span style=\"color: #00af00; text-decoration-color: #00af00\">64</span>, <span style=\"color: #00af00; text-decoration-color: #00af00\">64</span>, <span style=\"color: #00af00; text-decoration-color: #00af00\">16</span>)     │             <span style=\"color: #00af00; text-decoration-color: #00af00\">0</span> │\n",
       "├─────────────────────────────────┼────────────────────────┼───────────────┤\n",
       "│ conv2d_1 (<span style=\"color: #0087ff; text-decoration-color: #0087ff\">Conv2D</span>)               │ (<span style=\"color: #00d7ff; text-decoration-color: #00d7ff\">None</span>, <span style=\"color: #00af00; text-decoration-color: #00af00\">64</span>, <span style=\"color: #00af00; text-decoration-color: #00af00\">64</span>, <span style=\"color: #00af00; text-decoration-color: #00af00\">32</span>)     │         <span style=\"color: #00af00; text-decoration-color: #00af00\">2,080</span> │\n",
       "├─────────────────────────────────┼────────────────────────┼───────────────┤\n",
       "│ max_pooling2d_1 (<span style=\"color: #0087ff; text-decoration-color: #0087ff\">MaxPooling2D</span>)  │ (<span style=\"color: #00d7ff; text-decoration-color: #00d7ff\">None</span>, <span style=\"color: #00af00; text-decoration-color: #00af00\">32</span>, <span style=\"color: #00af00; text-decoration-color: #00af00\">32</span>, <span style=\"color: #00af00; text-decoration-color: #00af00\">32</span>)     │             <span style=\"color: #00af00; text-decoration-color: #00af00\">0</span> │\n",
       "├─────────────────────────────────┼────────────────────────┼───────────────┤\n",
       "│ conv2d_2 (<span style=\"color: #0087ff; text-decoration-color: #0087ff\">Conv2D</span>)               │ (<span style=\"color: #00d7ff; text-decoration-color: #00d7ff\">None</span>, <span style=\"color: #00af00; text-decoration-color: #00af00\">32</span>, <span style=\"color: #00af00; text-decoration-color: #00af00\">32</span>, <span style=\"color: #00af00; text-decoration-color: #00af00\">64</span>)     │         <span style=\"color: #00af00; text-decoration-color: #00af00\">8,256</span> │\n",
       "├─────────────────────────────────┼────────────────────────┼───────────────┤\n",
       "│ max_pooling2d_2 (<span style=\"color: #0087ff; text-decoration-color: #0087ff\">MaxPooling2D</span>)  │ (<span style=\"color: #00d7ff; text-decoration-color: #00d7ff\">None</span>, <span style=\"color: #00af00; text-decoration-color: #00af00\">16</span>, <span style=\"color: #00af00; text-decoration-color: #00af00\">16</span>, <span style=\"color: #00af00; text-decoration-color: #00af00\">64</span>)     │             <span style=\"color: #00af00; text-decoration-color: #00af00\">0</span> │\n",
       "├─────────────────────────────────┼────────────────────────┼───────────────┤\n",
       "│ conv2d_3 (<span style=\"color: #0087ff; text-decoration-color: #0087ff\">Conv2D</span>)               │ (<span style=\"color: #00d7ff; text-decoration-color: #00d7ff\">None</span>, <span style=\"color: #00af00; text-decoration-color: #00af00\">16</span>, <span style=\"color: #00af00; text-decoration-color: #00af00\">16</span>, <span style=\"color: #00af00; text-decoration-color: #00af00\">128</span>)    │        <span style=\"color: #00af00; text-decoration-color: #00af00\">32,896</span> │\n",
       "├─────────────────────────────────┼────────────────────────┼───────────────┤\n",
       "│ max_pooling2d_3 (<span style=\"color: #0087ff; text-decoration-color: #0087ff\">MaxPooling2D</span>)  │ (<span style=\"color: #00d7ff; text-decoration-color: #00d7ff\">None</span>, <span style=\"color: #00af00; text-decoration-color: #00af00\">8</span>, <span style=\"color: #00af00; text-decoration-color: #00af00\">8</span>, <span style=\"color: #00af00; text-decoration-color: #00af00\">128</span>)      │             <span style=\"color: #00af00; text-decoration-color: #00af00\">0</span> │\n",
       "├─────────────────────────────────┼────────────────────────┼───────────────┤\n",
       "│ flatten (<span style=\"color: #0087ff; text-decoration-color: #0087ff\">Flatten</span>)               │ (<span style=\"color: #00d7ff; text-decoration-color: #00d7ff\">None</span>, <span style=\"color: #00af00; text-decoration-color: #00af00\">8192</span>)           │             <span style=\"color: #00af00; text-decoration-color: #00af00\">0</span> │\n",
       "├─────────────────────────────────┼────────────────────────┼───────────────┤\n",
       "│ dropout (<span style=\"color: #0087ff; text-decoration-color: #0087ff\">Dropout</span>)               │ (<span style=\"color: #00d7ff; text-decoration-color: #00d7ff\">None</span>, <span style=\"color: #00af00; text-decoration-color: #00af00\">8192</span>)           │             <span style=\"color: #00af00; text-decoration-color: #00af00\">0</span> │\n",
       "├─────────────────────────────────┼────────────────────────┼───────────────┤\n",
       "│ dense (<span style=\"color: #0087ff; text-decoration-color: #0087ff\">Dense</span>)                   │ (<span style=\"color: #00d7ff; text-decoration-color: #00d7ff\">None</span>, <span style=\"color: #00af00; text-decoration-color: #00af00\">500</span>)            │     <span style=\"color: #00af00; text-decoration-color: #00af00\">4,096,500</span> │\n",
       "├─────────────────────────────────┼────────────────────────┼───────────────┤\n",
       "│ dropout_1 (<span style=\"color: #0087ff; text-decoration-color: #0087ff\">Dropout</span>)             │ (<span style=\"color: #00d7ff; text-decoration-color: #00d7ff\">None</span>, <span style=\"color: #00af00; text-decoration-color: #00af00\">500</span>)            │             <span style=\"color: #00af00; text-decoration-color: #00af00\">0</span> │\n",
       "├─────────────────────────────────┼────────────────────────┼───────────────┤\n",
       "│ dense_1 (<span style=\"color: #0087ff; text-decoration-color: #0087ff\">Dense</span>)                 │ (<span style=\"color: #00d7ff; text-decoration-color: #00d7ff\">None</span>, <span style=\"color: #00af00; text-decoration-color: #00af00\">150</span>)            │        <span style=\"color: #00af00; text-decoration-color: #00af00\">75,150</span> │\n",
       "├─────────────────────────────────┼────────────────────────┼───────────────┤\n",
       "│ dropout_2 (<span style=\"color: #0087ff; text-decoration-color: #0087ff\">Dropout</span>)             │ (<span style=\"color: #00d7ff; text-decoration-color: #00d7ff\">None</span>, <span style=\"color: #00af00; text-decoration-color: #00af00\">150</span>)            │             <span style=\"color: #00af00; text-decoration-color: #00af00\">0</span> │\n",
       "├─────────────────────────────────┼────────────────────────┼───────────────┤\n",
       "│ dense_2 (<span style=\"color: #0087ff; text-decoration-color: #0087ff\">Dense</span>)                 │ (<span style=\"color: #00d7ff; text-decoration-color: #00d7ff\">None</span>, <span style=\"color: #00af00; text-decoration-color: #00af00\">20</span>)             │         <span style=\"color: #00af00; text-decoration-color: #00af00\">3,020</span> │\n",
       "└─────────────────────────────────┴────────────────────────┴───────────────┘\n",
       "</pre>\n"
      ],
      "text/plain": [
       "┏━━━━━━━━━━━━━━━━━━━━━━━━━━━━━━━━━┳━━━━━━━━━━━━━━━━━━━━━━━━┳━━━━━━━━━━━━━━━┓\n",
       "┃\u001B[1m \u001B[0m\u001B[1mLayer (type)                   \u001B[0m\u001B[1m \u001B[0m┃\u001B[1m \u001B[0m\u001B[1mOutput Shape          \u001B[0m\u001B[1m \u001B[0m┃\u001B[1m \u001B[0m\u001B[1m      Param #\u001B[0m\u001B[1m \u001B[0m┃\n",
       "┡━━━━━━━━━━━━━━━━━━━━━━━━━━━━━━━━━╇━━━━━━━━━━━━━━━━━━━━━━━━╇━━━━━━━━━━━━━━━┩\n",
       "│ conv2d (\u001B[38;5;33mConv2D\u001B[0m)                 │ (\u001B[38;5;45mNone\u001B[0m, \u001B[38;5;34m128\u001B[0m, \u001B[38;5;34m128\u001B[0m, \u001B[38;5;34m16\u001B[0m)   │           \u001B[38;5;34m448\u001B[0m │\n",
       "├─────────────────────────────────┼────────────────────────┼───────────────┤\n",
       "│ max_pooling2d (\u001B[38;5;33mMaxPooling2D\u001B[0m)    │ (\u001B[38;5;45mNone\u001B[0m, \u001B[38;5;34m64\u001B[0m, \u001B[38;5;34m64\u001B[0m, \u001B[38;5;34m16\u001B[0m)     │             \u001B[38;5;34m0\u001B[0m │\n",
       "├─────────────────────────────────┼────────────────────────┼───────────────┤\n",
       "│ conv2d_1 (\u001B[38;5;33mConv2D\u001B[0m)               │ (\u001B[38;5;45mNone\u001B[0m, \u001B[38;5;34m64\u001B[0m, \u001B[38;5;34m64\u001B[0m, \u001B[38;5;34m32\u001B[0m)     │         \u001B[38;5;34m2,080\u001B[0m │\n",
       "├─────────────────────────────────┼────────────────────────┼───────────────┤\n",
       "│ max_pooling2d_1 (\u001B[38;5;33mMaxPooling2D\u001B[0m)  │ (\u001B[38;5;45mNone\u001B[0m, \u001B[38;5;34m32\u001B[0m, \u001B[38;5;34m32\u001B[0m, \u001B[38;5;34m32\u001B[0m)     │             \u001B[38;5;34m0\u001B[0m │\n",
       "├─────────────────────────────────┼────────────────────────┼───────────────┤\n",
       "│ conv2d_2 (\u001B[38;5;33mConv2D\u001B[0m)               │ (\u001B[38;5;45mNone\u001B[0m, \u001B[38;5;34m32\u001B[0m, \u001B[38;5;34m32\u001B[0m, \u001B[38;5;34m64\u001B[0m)     │         \u001B[38;5;34m8,256\u001B[0m │\n",
       "├─────────────────────────────────┼────────────────────────┼───────────────┤\n",
       "│ max_pooling2d_2 (\u001B[38;5;33mMaxPooling2D\u001B[0m)  │ (\u001B[38;5;45mNone\u001B[0m, \u001B[38;5;34m16\u001B[0m, \u001B[38;5;34m16\u001B[0m, \u001B[38;5;34m64\u001B[0m)     │             \u001B[38;5;34m0\u001B[0m │\n",
       "├─────────────────────────────────┼────────────────────────┼───────────────┤\n",
       "│ conv2d_3 (\u001B[38;5;33mConv2D\u001B[0m)               │ (\u001B[38;5;45mNone\u001B[0m, \u001B[38;5;34m16\u001B[0m, \u001B[38;5;34m16\u001B[0m, \u001B[38;5;34m128\u001B[0m)    │        \u001B[38;5;34m32,896\u001B[0m │\n",
       "├─────────────────────────────────┼────────────────────────┼───────────────┤\n",
       "│ max_pooling2d_3 (\u001B[38;5;33mMaxPooling2D\u001B[0m)  │ (\u001B[38;5;45mNone\u001B[0m, \u001B[38;5;34m8\u001B[0m, \u001B[38;5;34m8\u001B[0m, \u001B[38;5;34m128\u001B[0m)      │             \u001B[38;5;34m0\u001B[0m │\n",
       "├─────────────────────────────────┼────────────────────────┼───────────────┤\n",
       "│ flatten (\u001B[38;5;33mFlatten\u001B[0m)               │ (\u001B[38;5;45mNone\u001B[0m, \u001B[38;5;34m8192\u001B[0m)           │             \u001B[38;5;34m0\u001B[0m │\n",
       "├─────────────────────────────────┼────────────────────────┼───────────────┤\n",
       "│ dropout (\u001B[38;5;33mDropout\u001B[0m)               │ (\u001B[38;5;45mNone\u001B[0m, \u001B[38;5;34m8192\u001B[0m)           │             \u001B[38;5;34m0\u001B[0m │\n",
       "├─────────────────────────────────┼────────────────────────┼───────────────┤\n",
       "│ dense (\u001B[38;5;33mDense\u001B[0m)                   │ (\u001B[38;5;45mNone\u001B[0m, \u001B[38;5;34m500\u001B[0m)            │     \u001B[38;5;34m4,096,500\u001B[0m │\n",
       "├─────────────────────────────────┼────────────────────────┼───────────────┤\n",
       "│ dropout_1 (\u001B[38;5;33mDropout\u001B[0m)             │ (\u001B[38;5;45mNone\u001B[0m, \u001B[38;5;34m500\u001B[0m)            │             \u001B[38;5;34m0\u001B[0m │\n",
       "├─────────────────────────────────┼────────────────────────┼───────────────┤\n",
       "│ dense_1 (\u001B[38;5;33mDense\u001B[0m)                 │ (\u001B[38;5;45mNone\u001B[0m, \u001B[38;5;34m150\u001B[0m)            │        \u001B[38;5;34m75,150\u001B[0m │\n",
       "├─────────────────────────────────┼────────────────────────┼───────────────┤\n",
       "│ dropout_2 (\u001B[38;5;33mDropout\u001B[0m)             │ (\u001B[38;5;45mNone\u001B[0m, \u001B[38;5;34m150\u001B[0m)            │             \u001B[38;5;34m0\u001B[0m │\n",
       "├─────────────────────────────────┼────────────────────────┼───────────────┤\n",
       "│ dense_2 (\u001B[38;5;33mDense\u001B[0m)                 │ (\u001B[38;5;45mNone\u001B[0m, \u001B[38;5;34m20\u001B[0m)             │         \u001B[38;5;34m3,020\u001B[0m │\n",
       "└─────────────────────────────────┴────────────────────────┴───────────────┘\n"
      ]
     },
     "metadata": {},
     "output_type": "display_data"
    },
    {
     "data": {
      "text/html": [
       "<pre style=\"white-space:pre;overflow-x:auto;line-height:normal;font-family:Menlo,'DejaVu Sans Mono',consolas,'Courier New',monospace\"><span style=\"font-weight: bold\"> Total params: </span><span style=\"color: #00af00; text-decoration-color: #00af00\">4,218,350</span> (16.09 MB)\n",
       "</pre>\n"
      ],
      "text/plain": [
       "\u001B[1m Total params: \u001B[0m\u001B[38;5;34m4,218,350\u001B[0m (16.09 MB)\n"
      ]
     },
     "metadata": {},
     "output_type": "display_data"
    },
    {
     "data": {
      "text/html": [
       "<pre style=\"white-space:pre;overflow-x:auto;line-height:normal;font-family:Menlo,'DejaVu Sans Mono',consolas,'Courier New',monospace\"><span style=\"font-weight: bold\"> Trainable params: </span><span style=\"color: #00af00; text-decoration-color: #00af00\">4,218,350</span> (16.09 MB)\n",
       "</pre>\n"
      ],
      "text/plain": [
       "\u001B[1m Trainable params: \u001B[0m\u001B[38;5;34m4,218,350\u001B[0m (16.09 MB)\n"
      ]
     },
     "metadata": {},
     "output_type": "display_data"
    },
    {
     "data": {
      "text/html": [
       "<pre style=\"white-space:pre;overflow-x:auto;line-height:normal;font-family:Menlo,'DejaVu Sans Mono',consolas,'Courier New',monospace\"><span style=\"font-weight: bold\"> Non-trainable params: </span><span style=\"color: #00af00; text-decoration-color: #00af00\">0</span> (0.00 B)\n",
       "</pre>\n"
      ],
      "text/plain": [
       "\u001B[1m Non-trainable params: \u001B[0m\u001B[38;5;34m0\u001B[0m (0.00 B)\n"
      ]
     },
     "metadata": {},
     "output_type": "display_data"
    }
   ],
   "source": [
    "model = Sequential([\n",
    "    Conv2D(16, 3, activation='relu', padding='same', input_shape=X_train[0].shape),\n",
    "    MaxPooling2D(2),\n",
    "    Conv2D(32, 2, activation='relu', padding='same'),\n",
    "    MaxPooling2D(2),\n",
    "    Conv2D(64, 2, activation='relu', padding='same'),\n",
    "    MaxPooling2D(2),\n",
    "    Conv2D(128, 2, activation='relu', padding='same'),\n",
    "    MaxPooling2D(2),\n",
    "    Flatten(),\n",
    "    Dropout(0.2),\n",
    "    Dense(500, activation='relu'),\n",
    "    Dropout(0.2),\n",
    "    Dense(150, activation='relu'),\n",
    "    Dropout(0.2),\n",
    "    Dense(len(le.classes_), activation='softmax')\n",
    "])\n",
    "\n",
    "model.compile(optimizer=Adam(0.001), loss='categorical_crossentropy', metrics=['accuracy'])\n",
    "model.summary()\n"
   ]
  },
  {
   "cell_type": "code",
   "execution_count": null,
   "id": "400ccabb",
   "metadata": {
    "colab": {
     "base_uri": "https://localhost:8080/"
    },
    "executionInfo": {
     "elapsed": 2211444,
     "status": "ok",
     "timestamp": 1750936143340,
     "user": {
      "displayName": "m suseel",
      "userId": "01088006816334895188"
     },
     "user_tz": -330
    },
    "id": "400ccabb",
    "outputId": "71a44204-00b1-4023-f603-8e64aa7404f2"
   },
   "outputs": [
    {
     "name": "stdout",
     "output_type": "stream",
     "text": [
      "Epoch 1/500\n"
     ]
    },
    {
     "name": "stderr",
     "output_type": "stream",
     "text": [
      "/usr/local/lib/python3.11/dist-packages/keras/src/trainers/data_adapters/py_dataset_adapter.py:121: UserWarning: Your `PyDataset` class should call `super().__init__(**kwargs)` in its constructor. `**kwargs` can include `workers`, `use_multiprocessing`, `max_queue_size`. Do not pass these arguments to `fit()`, as they will be ignored.\n",
      "  self._warn_if_super_not_called()\n"
     ]
    },
    {
     "name": "stdout",
     "output_type": "stream",
     "text": [
      "\u001B[1m1549/1549\u001B[0m \u001B[32m━━━━━━━━━━━━━━━━━━━━\u001B[0m\u001B[37m\u001B[0m \u001B[1m50s\u001B[0m 28ms/step - accuracy: 0.2311 - loss: 2.5422 - val_accuracy: 0.4766 - val_loss: 1.6374\n",
      "Epoch 2/500\n",
      "\u001B[1m1549/1549\u001B[0m \u001B[32m━━━━━━━━━━━━━━━━━━━━\u001B[0m\u001B[37m\u001B[0m \u001B[1m32s\u001B[0m 20ms/step - accuracy: 0.4687 - loss: 1.6101 - val_accuracy: 0.6881 - val_loss: 0.9807\n",
      "Epoch 3/500\n",
      "\u001B[1m1549/1549\u001B[0m \u001B[32m━━━━━━━━━━━━━━━━━━━━\u001B[0m\u001B[37m\u001B[0m \u001B[1m32s\u001B[0m 21ms/step - accuracy: 0.6389 - loss: 1.0962 - val_accuracy: 0.7612 - val_loss: 0.7028\n",
      "Epoch 4/500\n",
      "\u001B[1m1549/1549\u001B[0m \u001B[32m━━━━━━━━━━━━━━━━━━━━\u001B[0m\u001B[37m\u001B[0m \u001B[1m32s\u001B[0m 20ms/step - accuracy: 0.7338 - loss: 0.8105 - val_accuracy: 0.8030 - val_loss: 0.6042\n",
      "Epoch 5/500\n",
      "\u001B[1m1549/1549\u001B[0m \u001B[32m━━━━━━━━━━━━━━━━━━━━\u001B[0m\u001B[37m\u001B[0m \u001B[1m33s\u001B[0m 21ms/step - accuracy: 0.7824 - loss: 0.6772 - val_accuracy: 0.8534 - val_loss: 0.4090\n",
      "Epoch 6/500\n",
      "\u001B[1m1549/1549\u001B[0m \u001B[32m━━━━━━━━━━━━━━━━━━━━\u001B[0m\u001B[37m\u001B[0m \u001B[1m31s\u001B[0m 20ms/step - accuracy: 0.7951 - loss: 0.6335 - val_accuracy: 0.8660 - val_loss: 0.4169\n",
      "Epoch 7/500\n",
      "\u001B[1m1549/1549\u001B[0m \u001B[32m━━━━━━━━━━━━━━━━━━━━\u001B[0m\u001B[37m\u001B[0m \u001B[1m31s\u001B[0m 20ms/step - accuracy: 0.8198 - loss: 0.5759 - val_accuracy: 0.8618 - val_loss: 0.3692\n",
      "Epoch 8/500\n",
      "\u001B[1m1549/1549\u001B[0m \u001B[32m━━━━━━━━━━━━━━━━━━━━\u001B[0m\u001B[37m\u001B[0m \u001B[1m33s\u001B[0m 22ms/step - accuracy: 0.8280 - loss: 0.5379 - val_accuracy: 0.9146 - val_loss: 0.2731\n",
      "Epoch 9/500\n",
      "\u001B[1m1549/1549\u001B[0m \u001B[32m━━━━━━━━━━━━━━━━━━━━\u001B[0m\u001B[37m\u001B[0m \u001B[1m31s\u001B[0m 20ms/step - accuracy: 0.8305 - loss: 0.5343 - val_accuracy: 0.8536 - val_loss: 0.4242\n",
      "Epoch 10/500\n",
      "\u001B[1m1549/1549\u001B[0m \u001B[32m━━━━━━━━━━━━━━━━━━━━\u001B[0m\u001B[37m\u001B[0m \u001B[1m32s\u001B[0m 21ms/step - accuracy: 0.8438 - loss: 0.4787 - val_accuracy: 0.9083 - val_loss: 0.2667\n",
      "Epoch 11/500\n",
      "\u001B[1m1549/1549\u001B[0m \u001B[32m━━━━━━━━━━━━━━━━━━━━\u001B[0m\u001B[37m\u001B[0m \u001B[1m33s\u001B[0m 21ms/step - accuracy: 0.8604 - loss: 0.4460 - val_accuracy: 0.9180 - val_loss: 0.2411\n",
      "Epoch 12/500\n",
      "\u001B[1m1549/1549\u001B[0m \u001B[32m━━━━━━━━━━━━━━━━━━━━\u001B[0m\u001B[37m\u001B[0m \u001B[1m39s\u001B[0m 20ms/step - accuracy: 0.8626 - loss: 0.4293 - val_accuracy: 0.9112 - val_loss: 0.2518\n",
      "Epoch 13/500\n",
      "\u001B[1m1549/1549\u001B[0m \u001B[32m━━━━━━━━━━━━━━━━━━━━\u001B[0m\u001B[37m\u001B[0m \u001B[1m30s\u001B[0m 19ms/step - accuracy: 0.8581 - loss: 0.4454 - val_accuracy: 0.9031 - val_loss: 0.2885\n",
      "Epoch 14/500\n",
      "\u001B[1m1549/1549\u001B[0m \u001B[32m━━━━━━━━━━━━━━━━━━━━\u001B[0m\u001B[37m\u001B[0m \u001B[1m45s\u001B[0m 22ms/step - accuracy: 0.8587 - loss: 0.4061 - val_accuracy: 0.9285 - val_loss: 0.2067\n",
      "Epoch 15/500\n",
      "\u001B[1m1549/1549\u001B[0m \u001B[32m━━━━━━━━━━━━━━━━━━━━\u001B[0m\u001B[37m\u001B[0m \u001B[1m30s\u001B[0m 20ms/step - accuracy: 0.8724 - loss: 0.3935 - val_accuracy: 0.8763 - val_loss: 0.3710\n",
      "Epoch 16/500\n",
      "\u001B[1m1549/1549\u001B[0m \u001B[32m━━━━━━━━━━━━━━━━━━━━\u001B[0m\u001B[37m\u001B[0m \u001B[1m29s\u001B[0m 19ms/step - accuracy: 0.8826 - loss: 0.3687 - val_accuracy: 0.9270 - val_loss: 0.2108\n",
      "Epoch 17/500\n",
      "\u001B[1m1549/1549\u001B[0m \u001B[32m━━━━━━━━━━━━━━━━━━━━\u001B[0m\u001B[37m\u001B[0m \u001B[1m32s\u001B[0m 21ms/step - accuracy: 0.8786 - loss: 0.3915 - val_accuracy: 0.9516 - val_loss: 0.1457\n",
      "Epoch 18/500\n",
      "\u001B[1m1549/1549\u001B[0m \u001B[32m━━━━━━━━━━━━━━━━━━━━\u001B[0m\u001B[37m\u001B[0m \u001B[1m31s\u001B[0m 20ms/step - accuracy: 0.8753 - loss: 0.3969 - val_accuracy: 0.8965 - val_loss: 0.3019\n",
      "Epoch 19/500\n",
      "\u001B[1m1549/1549\u001B[0m \u001B[32m━━━━━━━━━━━━━━━━━━━━\u001B[0m\u001B[37m\u001B[0m \u001B[1m29s\u001B[0m 19ms/step - accuracy: 0.8812 - loss: 0.3688 - val_accuracy: 0.9395 - val_loss: 0.1911\n",
      "Epoch 20/500\n",
      "\u001B[1m1549/1549\u001B[0m \u001B[32m━━━━━━━━━━━━━━━━━━━━\u001B[0m\u001B[37m\u001B[0m \u001B[1m29s\u001B[0m 19ms/step - accuracy: 0.8831 - loss: 0.3650 - val_accuracy: 0.9479 - val_loss: 0.1491\n",
      "Epoch 21/500\n",
      "\u001B[1m1549/1549\u001B[0m \u001B[32m━━━━━━━━━━━━━━━━━━━━\u001B[0m\u001B[37m\u001B[0m \u001B[1m42s\u001B[0m 20ms/step - accuracy: 0.8903 - loss: 0.3462 - val_accuracy: 0.9438 - val_loss: 0.1573\n",
      "Epoch 22/500\n",
      "\u001B[1m1549/1549\u001B[0m \u001B[32m━━━━━━━━━━━━━━━━━━━━\u001B[0m\u001B[37m\u001B[0m \u001B[1m29s\u001B[0m 19ms/step - accuracy: 0.8887 - loss: 0.3469 - val_accuracy: 0.9081 - val_loss: 0.2502\n",
      "Epoch 23/500\n",
      "\u001B[1m1549/1549\u001B[0m \u001B[32m━━━━━━━━━━━━━━━━━━━━\u001B[0m\u001B[37m\u001B[0m \u001B[1m29s\u001B[0m 19ms/step - accuracy: 0.8742 - loss: 0.4218 - val_accuracy: 0.9419 - val_loss: 0.1673\n",
      "Epoch 24/500\n",
      "\u001B[1m1549/1549\u001B[0m \u001B[32m━━━━━━━━━━━━━━━━━━━━\u001B[0m\u001B[37m\u001B[0m \u001B[1m29s\u001B[0m 19ms/step - accuracy: 0.8961 - loss: 0.3358 - val_accuracy: 0.9487 - val_loss: 0.1483\n",
      "Epoch 25/500\n",
      "\u001B[1m1549/1549\u001B[0m \u001B[32m━━━━━━━━━━━━━━━━━━━━\u001B[0m\u001B[37m\u001B[0m \u001B[1m31s\u001B[0m 20ms/step - accuracy: 0.8818 - loss: 0.3651 - val_accuracy: 0.9254 - val_loss: 0.2068\n",
      "Epoch 26/500\n",
      "\u001B[1m1549/1549\u001B[0m \u001B[32m━━━━━━━━━━━━━━━━━━━━\u001B[0m\u001B[37m\u001B[0m \u001B[1m29s\u001B[0m 19ms/step - accuracy: 0.8919 - loss: 0.3526 - val_accuracy: 0.9504 - val_loss: 0.1502\n",
      "Epoch 27/500\n",
      "\u001B[1m1549/1549\u001B[0m \u001B[32m━━━━━━━━━━━━━━━━━━━━\u001B[0m\u001B[37m\u001B[0m \u001B[1m29s\u001B[0m 19ms/step - accuracy: 0.8984 - loss: 0.3078 - val_accuracy: 0.9393 - val_loss: 0.1856\n",
      "Epoch 28/500\n",
      "\u001B[1m1549/1549\u001B[0m \u001B[32m━━━━━━━━━━━━━━━━━━━━\u001B[0m\u001B[37m\u001B[0m \u001B[1m29s\u001B[0m 19ms/step - accuracy: 0.8874 - loss: 0.3567 - val_accuracy: 0.9398 - val_loss: 0.1926\n",
      "Epoch 29/500\n",
      "\u001B[1m1549/1549\u001B[0m \u001B[32m━━━━━━━━━━━━━━━━━━━━\u001B[0m\u001B[37m\u001B[0m \u001B[1m29s\u001B[0m 19ms/step - accuracy: 0.8921 - loss: 0.3493 - val_accuracy: 0.8831 - val_loss: 0.3454\n",
      "Epoch 30/500\n",
      "\u001B[1m1549/1549\u001B[0m \u001B[32m━━━━━━━━━━━━━━━━━━━━\u001B[0m\u001B[37m\u001B[0m \u001B[1m30s\u001B[0m 19ms/step - accuracy: 0.9033 - loss: 0.3286 - val_accuracy: 0.9435 - val_loss: 0.1641\n",
      "Epoch 31/500\n",
      "\u001B[1m1549/1549\u001B[0m \u001B[32m━━━━━━━━━━━━━━━━━━━━\u001B[0m\u001B[37m\u001B[0m \u001B[1m29s\u001B[0m 19ms/step - accuracy: 0.9045 - loss: 0.3036 - val_accuracy: 0.8836 - val_loss: 0.3216\n",
      "Epoch 32/500\n",
      "\u001B[1m1549/1549\u001B[0m \u001B[32m━━━━━━━━━━━━━━━━━━━━\u001B[0m\u001B[37m\u001B[0m \u001B[1m35s\u001B[0m 22ms/step - accuracy: 0.8962 - loss: 0.3272 - val_accuracy: 0.9551 - val_loss: 0.1278\n",
      "Epoch 33/500\n",
      "\u001B[1m1549/1549\u001B[0m \u001B[32m━━━━━━━━━━━━━━━━━━━━\u001B[0m\u001B[37m\u001B[0m \u001B[1m30s\u001B[0m 19ms/step - accuracy: 0.9071 - loss: 0.2911 - val_accuracy: 0.9348 - val_loss: 0.1697\n",
      "Epoch 34/500\n",
      "\u001B[1m1549/1549\u001B[0m \u001B[32m━━━━━━━━━━━━━━━━━━━━\u001B[0m\u001B[37m\u001B[0m \u001B[1m29s\u001B[0m 19ms/step - accuracy: 0.9031 - loss: 0.3200 - val_accuracy: 0.9483 - val_loss: 0.1375\n",
      "Epoch 35/500\n",
      "\u001B[1m1549/1549\u001B[0m \u001B[32m━━━━━━━━━━━━━━━━━━━━\u001B[0m\u001B[37m\u001B[0m \u001B[1m42s\u001B[0m 19ms/step - accuracy: 0.9043 - loss: 0.3171 - val_accuracy: 0.9503 - val_loss: 0.1438\n",
      "Epoch 36/500\n",
      "\u001B[1m1549/1549\u001B[0m \u001B[32m━━━━━━━━━━━━━━━━━━━━\u001B[0m\u001B[37m\u001B[0m \u001B[1m32s\u001B[0m 21ms/step - accuracy: 0.8894 - loss: 0.3372 - val_accuracy: 0.9248 - val_loss: 0.2153\n",
      "Epoch 37/500\n",
      "\u001B[1m1549/1549\u001B[0m \u001B[32m━━━━━━━━━━━━━━━━━━━━\u001B[0m\u001B[37m\u001B[0m \u001B[1m31s\u001B[0m 20ms/step - accuracy: 0.9033 - loss: 0.3150 - val_accuracy: 0.9328 - val_loss: 0.1954\n",
      "Epoch 38/500\n",
      "\u001B[1m1549/1549\u001B[0m \u001B[32m━━━━━━━━━━━━━━━━━━━━\u001B[0m\u001B[37m\u001B[0m \u001B[1m31s\u001B[0m 20ms/step - accuracy: 0.9025 - loss: 0.3186 - val_accuracy: 0.9475 - val_loss: 0.1434\n",
      "Epoch 39/500\n",
      "\u001B[1m1549/1549\u001B[0m \u001B[32m━━━━━━━━━━━━━━━━━━━━\u001B[0m\u001B[37m\u001B[0m \u001B[1m32s\u001B[0m 21ms/step - accuracy: 0.9030 - loss: 0.3039 - val_accuracy: 0.9070 - val_loss: 0.2653\n",
      "Epoch 40/500\n",
      "\u001B[1m1549/1549\u001B[0m \u001B[32m━━━━━━━━━━━━━━━━━━━━\u001B[0m\u001B[37m\u001B[0m \u001B[1m30s\u001B[0m 20ms/step - accuracy: 0.8914 - loss: 0.3509 - val_accuracy: 0.9023 - val_loss: 0.3121\n",
      "Epoch 41/500\n",
      "\u001B[1m1549/1549\u001B[0m \u001B[32m━━━━━━━━━━━━━━━━━━━━\u001B[0m\u001B[37m\u001B[0m \u001B[1m30s\u001B[0m 19ms/step - accuracy: 0.8998 - loss: 0.3253 - val_accuracy: 0.9479 - val_loss: 0.1434\n",
      "Epoch 42/500\n",
      "\u001B[1m1549/1549\u001B[0m \u001B[32m━━━━━━━━━━━━━━━━━━━━\u001B[0m\u001B[37m\u001B[0m \u001B[1m29s\u001B[0m 19ms/step - accuracy: 0.9084 - loss: 0.2875 - val_accuracy: 0.9466 - val_loss: 0.1509\n",
      "Epoch 43/500\n",
      "\u001B[1m1549/1549\u001B[0m \u001B[32m━━━━━━━━━━━━━━━━━━━━\u001B[0m\u001B[37m\u001B[0m \u001B[1m31s\u001B[0m 20ms/step - accuracy: 0.8976 - loss: 0.3169 - val_accuracy: 0.9504 - val_loss: 0.1400\n",
      "Epoch 44/500\n",
      "\u001B[1m1549/1549\u001B[0m \u001B[32m━━━━━━━━━━━━━━━━━━━━\u001B[0m\u001B[37m\u001B[0m \u001B[1m30s\u001B[0m 20ms/step - accuracy: 0.9021 - loss: 0.2944 - val_accuracy: 0.9406 - val_loss: 0.1715\n",
      "Epoch 45/500\n",
      "\u001B[1m1549/1549\u001B[0m \u001B[32m━━━━━━━━━━━━━━━━━━━━\u001B[0m\u001B[37m\u001B[0m \u001B[1m41s\u001B[0m 20ms/step - accuracy: 0.8943 - loss: 0.3351 - val_accuracy: 0.9414 - val_loss: 0.1620\n",
      "Epoch 46/500\n",
      "\u001B[1m1549/1549\u001B[0m \u001B[32m━━━━━━━━━━━━━━━━━━━━\u001B[0m\u001B[37m\u001B[0m \u001B[1m41s\u001B[0m 20ms/step - accuracy: 0.9025 - loss: 0.3004 - val_accuracy: 0.9472 - val_loss: 0.1489\n",
      "Epoch 47/500\n",
      "\u001B[1m1549/1549\u001B[0m \u001B[32m━━━━━━━━━━━━━━━━━━━━\u001B[0m\u001B[37m\u001B[0m \u001B[1m32s\u001B[0m 20ms/step - accuracy: 0.9008 - loss: 0.3345 - val_accuracy: 0.9569 - val_loss: 0.1293\n",
      "Epoch 48/500\n",
      "\u001B[1m1549/1549\u001B[0m \u001B[32m━━━━━━━━━━━━━━━━━━━━\u001B[0m\u001B[37m\u001B[0m \u001B[1m32s\u001B[0m 20ms/step - accuracy: 0.9038 - loss: 0.3040 - val_accuracy: 0.9682 - val_loss: 0.0947\n",
      "Epoch 49/500\n",
      "\u001B[1m1549/1549\u001B[0m \u001B[32m━━━━━━━━━━━━━━━━━━━━\u001B[0m\u001B[37m\u001B[0m \u001B[1m32s\u001B[0m 21ms/step - accuracy: 0.9058 - loss: 0.3242 - val_accuracy: 0.9556 - val_loss: 0.1410\n",
      "Epoch 50/500\n",
      "\u001B[1m1549/1549\u001B[0m \u001B[32m━━━━━━━━━━━━━━━━━━━━\u001B[0m\u001B[37m\u001B[0m \u001B[1m41s\u001B[0m 21ms/step - accuracy: 0.9182 - loss: 0.2712 - val_accuracy: 0.9480 - val_loss: 0.1631\n",
      "Epoch 51/500\n",
      "\u001B[1m1549/1549\u001B[0m \u001B[32m━━━━━━━━━━━━━━━━━━━━\u001B[0m\u001B[37m\u001B[0m \u001B[1m30s\u001B[0m 19ms/step - accuracy: 0.9070 - loss: 0.2994 - val_accuracy: 0.9298 - val_loss: 0.2076\n",
      "Epoch 52/500\n",
      "\u001B[1m1549/1549\u001B[0m \u001B[32m━━━━━━━━━━━━━━━━━━━━\u001B[0m\u001B[37m\u001B[0m \u001B[1m30s\u001B[0m 20ms/step - accuracy: 0.8989 - loss: 0.3276 - val_accuracy: 0.9635 - val_loss: 0.1107\n",
      "Epoch 53/500\n",
      "\u001B[1m1549/1549\u001B[0m \u001B[32m━━━━━━━━━━━━━━━━━━━━\u001B[0m\u001B[37m\u001B[0m \u001B[1m32s\u001B[0m 21ms/step - accuracy: 0.8963 - loss: 0.3371 - val_accuracy: 0.9590 - val_loss: 0.1185\n",
      "Epoch 54/500\n",
      "\u001B[1m1549/1549\u001B[0m \u001B[32m━━━━━━━━━━━━━━━━━━━━\u001B[0m\u001B[37m\u001B[0m \u001B[1m30s\u001B[0m 20ms/step - accuracy: 0.9099 - loss: 0.3148 - val_accuracy: 0.9407 - val_loss: 0.1851\n",
      "Epoch 55/500\n",
      "\u001B[1m1549/1549\u001B[0m \u001B[32m━━━━━━━━━━━━━━━━━━━━\u001B[0m\u001B[37m\u001B[0m \u001B[1m31s\u001B[0m 20ms/step - accuracy: 0.9071 - loss: 0.3124 - val_accuracy: 0.9136 - val_loss: 0.2348\n",
      "Epoch 56/500\n",
      "\u001B[1m1549/1549\u001B[0m \u001B[32m━━━━━━━━━━━━━━━━━━━━\u001B[0m\u001B[37m\u001B[0m \u001B[1m32s\u001B[0m 20ms/step - accuracy: 0.8987 - loss: 0.3378 - val_accuracy: 0.9645 - val_loss: 0.1061\n",
      "Epoch 57/500\n",
      "\u001B[1m1549/1549\u001B[0m \u001B[32m━━━━━━━━━━━━━━━━━━━━\u001B[0m\u001B[37m\u001B[0m \u001B[1m31s\u001B[0m 20ms/step - accuracy: 0.9077 - loss: 0.3211 - val_accuracy: 0.9524 - val_loss: 0.1328\n",
      "Epoch 58/500\n",
      "\u001B[1m1549/1549\u001B[0m \u001B[32m━━━━━━━━━━━━━━━━━━━━\u001B[0m\u001B[37m\u001B[0m \u001B[1m31s\u001B[0m 20ms/step - accuracy: 0.9060 - loss: 0.3196 - val_accuracy: 0.9435 - val_loss: 0.1490\n",
      "Epoch 59/500\n",
      "\u001B[1m1549/1549\u001B[0m \u001B[32m━━━━━━━━━━━━━━━━━━━━\u001B[0m\u001B[37m\u001B[0m \u001B[1m32s\u001B[0m 21ms/step - accuracy: 0.9071 - loss: 0.3160 - val_accuracy: 0.9362 - val_loss: 0.1980\n",
      "Epoch 60/500\n",
      "\u001B[1m1549/1549\u001B[0m \u001B[32m━━━━━━━━━━━━━━━━━━━━\u001B[0m\u001B[37m\u001B[0m \u001B[1m31s\u001B[0m 20ms/step - accuracy: 0.9013 - loss: 0.3161 - val_accuracy: 0.9490 - val_loss: 0.1594\n",
      "Epoch 61/500\n",
      "\u001B[1m1549/1549\u001B[0m \u001B[32m━━━━━━━━━━━━━━━━━━━━\u001B[0m\u001B[37m\u001B[0m \u001B[1m31s\u001B[0m 20ms/step - accuracy: 0.9220 - loss: 0.2643 - val_accuracy: 0.9575 - val_loss: 0.1325\n",
      "Epoch 62/500\n",
      "\u001B[1m1549/1549\u001B[0m \u001B[32m━━━━━━━━━━━━━━━━━━━━\u001B[0m\u001B[37m\u001B[0m \u001B[1m31s\u001B[0m 20ms/step - accuracy: 0.9208 - loss: 0.2887 - val_accuracy: 0.9506 - val_loss: 0.1428\n",
      "Epoch 63/500\n",
      "\u001B[1m1549/1549\u001B[0m \u001B[32m━━━━━━━━━━━━━━━━━━━━\u001B[0m\u001B[37m\u001B[0m \u001B[1m41s\u001B[0m 20ms/step - accuracy: 0.9181 - loss: 0.2841 - val_accuracy: 0.9593 - val_loss: 0.1179\n",
      "Epoch 64/500\n",
      "\u001B[1m1549/1549\u001B[0m \u001B[32m━━━━━━━━━━━━━━━━━━━━\u001B[0m\u001B[37m\u001B[0m \u001B[1m31s\u001B[0m 20ms/step - accuracy: 0.9177 - loss: 0.2753 - val_accuracy: 0.9561 - val_loss: 0.1381\n",
      "Epoch 65/500\n",
      "\u001B[1m1549/1549\u001B[0m \u001B[32m━━━━━━━━━━━━━━━━━━━━\u001B[0m\u001B[37m\u001B[0m \u001B[1m31s\u001B[0m 20ms/step - accuracy: 0.9013 - loss: 0.3543 - val_accuracy: 0.9527 - val_loss: 0.1386\n",
      "Epoch 66/500\n",
      "\u001B[1m1549/1549\u001B[0m \u001B[32m━━━━━━━━━━━━━━━━━━━━\u001B[0m\u001B[37m\u001B[0m \u001B[1m32s\u001B[0m 20ms/step - accuracy: 0.9147 - loss: 0.3053 - val_accuracy: 0.9351 - val_loss: 0.1975\n",
      "Epoch 67/500\n",
      "\u001B[1m1549/1549\u001B[0m \u001B[32m━━━━━━━━━━━━━━━━━━━━\u001B[0m\u001B[37m\u001B[0m \u001B[1m31s\u001B[0m 20ms/step - accuracy: 0.8956 - loss: 0.3379 - val_accuracy: 0.9690 - val_loss: 0.1034\n",
      "Epoch 68/500\n",
      "\u001B[1m1549/1549\u001B[0m \u001B[32m━━━━━━━━━━━━━━━━━━━━\u001B[0m\u001B[37m\u001B[0m \u001B[1m41s\u001B[0m 20ms/step - accuracy: 0.9119 - loss: 0.3060 - val_accuracy: 0.9441 - val_loss: 0.1828\n"
     ]
    }
   ],
   "source": [
    "datagen = ImageDataGenerator(\n",
    "    rotation_range=20,\n",
    "    width_shift_range=0.2,\n",
    "    height_shift_range=0.2,\n",
    "    horizontal_flip=True,\n",
    "    vertical_flip=True\n",
    ")\n",
    "datagen.fit(X_train)\n",
    "\n",
    "model_path=\"cnn.weights.h5\"\n",
    "\n",
    "callbacks = [\n",
    "    EarlyStopping(monitor='val_loss', patience=20),\n",
    "    ModelCheckpoint(model_path, save_best_only=True, save_weights_only=True)\n",
    "]\n",
    "\n",
    "history = model.fit(\n",
    "    datagen.flow(X_train, Y_train, batch_size=4),\n",
    "    epochs=500,\n",
    "    validation_data=(X_train, Y_train),\n",
    "    callbacks=callbacks,\n",
    "    verbose=1\n",
    ")\n"
   ]
  },
  {
   "cell_type": "code",
   "execution_count": 11,
   "id": "f8dd30c8",
   "metadata": {
    "colab": {
     "base_uri": "https://localhost:8080/"
    },
    "executionInfo": {
     "elapsed": 5296,
     "status": "ok",
     "timestamp": 1750936182955,
     "user": {
      "displayName": "m suseel",
      "userId": "01088006816334895188"
     },
     "user_tz": -330
    },
    "id": "f8dd30c8",
    "outputId": "e6e77132-b1dc-4169-fc49-5cf08ad21951"
   },
   "outputs": [
    {
     "name": "stdout",
     "output_type": "stream",
     "text": [
      "\u001B[1m49/49\u001B[0m \u001B[32m━━━━━━━━━━━━━━━━━━━━\u001B[0m\u001B[37m\u001B[0m \u001B[1m1s\u001B[0m 24ms/step - accuracy: 0.9662 - loss: 0.1789\n",
      "Test Loss: 0.2078019082546234\n",
      "Test Accuracy: 0.9606197476387024\n",
      "\u001B[1m49/49\u001B[0m \u001B[32m━━━━━━━━━━━━━━━━━━━━\u001B[0m\u001B[37m\u001B[0m \u001B[1m1s\u001B[0m 13ms/step\n",
      "[[ 80   1   1   0   0   0   0   3   0   1   0   0   0   0   0   4   0   0\n",
      "    0   4]\n",
      " [  0  93   0   0   0   0   1   0   0   0   0   0   0   0   0   0   0   0\n",
      "    0   1]\n",
      " [  0   0  70   0   0   0   0   0   0   0   0   0   1   0   0   0   0   0\n",
      "    0   0]\n",
      " [  0   0   0 132   0   0   0   0   0   0   1   0   0   0   0   0   0   0\n",
      "    0   0]\n",
      " [  0   0   0   0  42   0   0   0   0   0   1   0   0   0   0   0   0   0\n",
      "    0   0]\n",
      " [  0   0   0   0   0  60   1   0   0   1   0   0   0   0   0   0   0   0\n",
      "    0   2]\n",
      " [  0   0   0   0   2   0  68   0   0   2   1   0   0   0   0   0   0   0\n",
      "    0   0]\n",
      " [  1   0   0   0   0   0   0  42   0   0   0   0   0   0   0   0   0   0\n",
      "    0   0]\n",
      " [  0   0   0   3   0   0   0   0  12   0   0   0   0   0   0   0   0   0\n",
      "    0   0]\n",
      " [  0   0   0   1   0   0   0   0   0 129   0   0   0   0   0   0   0   0\n",
      "    0   2]\n",
      " [  0   0   0   0   0   0   0   0   0   0  68   0   0   0   0   0   0   0\n",
      "    0   0]\n",
      " [  2   0   0   0   0   0   0   0   0   0   0 226   0   0   0   2   0   0\n",
      "    2   0]\n",
      " [  0   0   0   0   0   0   0   0   0   1   0   0  46   0   0   0   0   0\n",
      "    0   0]\n",
      " [  3   0   0   0   0   0   0   0   0   0   0   0   0  20   0   0   0   1\n",
      "    0   0]\n",
      " [  0   0   0   0   0   0   0   0   0   0   0   0   0   0  46   0   0   0\n",
      "    0   0]\n",
      " [  0   0   0   0   0   0   0   0   0   0   0   0   0   0   0  63   0   0\n",
      "    0   0]\n",
      " [  0   0   0   0   0   0   0   0   0   0   0   0   0   0   0   0  45   0\n",
      "    1   0]\n",
      " [  3   0   0   0   0   0   0   0   0   0   0   1   0   1   0   0   0  37\n",
      "    1   0]\n",
      " [  0   0   0   0   0   0   0   0   0   0   0   0   0   0   0   4   0   0\n",
      "   50   0]\n",
      " [  2   0   0   0   0   1   1   0   0   0   0   0   0   0   0   0   0   0\n",
      "    0 159]]\n",
      "                 precision    recall  f1-score   support\n",
      "\n",
      "          alder       0.88      0.85      0.86        94\n",
      "       angelica       0.99      0.98      0.98        95\n",
      "angelica_garden       0.99      0.99      0.99        71\n",
      "          birch       0.97      0.99      0.98       133\n",
      "      buckwheat       0.95      0.98      0.97        43\n",
      "         clover       0.98      0.94      0.96        64\n",
      "       fireweed       0.96      0.93      0.94        73\n",
      "          grass       0.93      0.98      0.95        43\n",
      "          hazel       1.00      0.80      0.89        15\n",
      "   hill_mustard       0.96      0.98      0.97       132\n",
      "         linden       0.96      1.00      0.98        68\n",
      "          maple       1.00      0.97      0.98       232\n",
      "    meadow_pink       0.98      0.98      0.98        47\n",
      "        mugwort       0.95      0.83      0.89        24\n",
      "         nettle       1.00      1.00      1.00        46\n",
      "        pigweed       0.86      1.00      0.93        63\n",
      "           pine       1.00      0.98      0.99        46\n",
      "       plantain       0.97      0.86      0.91        43\n",
      "         sorrel       0.93      0.93      0.93        54\n",
      "         willow       0.95      0.98      0.96       163\n",
      "\n",
      "       accuracy                           0.96      1549\n",
      "      macro avg       0.96      0.95      0.95      1549\n",
      "   weighted avg       0.96      0.96      0.96      1549\n",
      "\n"
     ]
    }
   ],
   "source": [
    "model.load_weights(model_path)\n",
    "score = model.evaluate(X_test, Y_test)\n",
    "print(f\"Test Loss: {score[0]}\")\n",
    "print(f\"Test Accuracy: {score[1]}\")\n",
    "\n",
    "y_pred = model.predict(X_test).argmax(axis=1)\n",
    "y_true = Y_test.argmax(axis=1)\n",
    "\n",
    "print(confusion_matrix(y_true, y_pred))\n",
    "print(classification_report(y_true, y_pred, target_names=le.classes_))\n"
   ]
  },
  {
   "cell_type": "code",
   "execution_count": 12,
   "id": "f3373944",
   "metadata": {
    "colab": {
     "base_uri": "https://localhost:8080/",
     "height": 942
    },
    "executionInfo": {
     "elapsed": 1008,
     "status": "ok",
     "timestamp": 1750936197758,
     "user": {
      "displayName": "m suseel",
      "userId": "01088006816334895188"
     },
     "user_tz": -330
    },
    "id": "f3373944",
    "outputId": "ca6c5eca-9166-409d-e07f-67f7ad9bbb7e"
   },
   "outputs": [
    {
     "data": {
      "image/png": "[encoded data removed]",
      "text/plain": [
       "<Figure size 1200x1000 with 2 Axes>"
      ]
     },
     "metadata": {},
     "output_type": "display_data"
    }
   ],
   "source": [
    "def plot_metrics(history):\n",
    "    acc = history.history['accuracy']\n",
    "    val_acc = history.history['val_accuracy']\n",
    "    loss = history.history['loss']\n",
    "    val_loss = history.history['val_loss']\n",
    "    epochs = range(len(acc))\n",
    "\n",
    "    fig, axs = plt.subplots(2, 1, figsize=(12, 10))\n",
    "    axs[0].plot(epochs, acc, label='Train Acc')\n",
    "    axs[0].plot(epochs, val_acc, label='Val Acc')\n",
    "    axs[0].legend()\n",
    "    axs[0].set_title(\"Accuracy\")\n",
    "\n",
    "    axs[1].plot(epochs, loss, label='Train Loss')\n",
    "    axs[1].plot(epochs, val_loss, label='Val Loss')\n",
    "    axs[1].legend()\n",
    "    axs[1].set_title(\"Loss\")\n",
    "\n",
    "    plt.tight_layout()\n",
    "    plt.show()\n",
    "\n",
    "plot_metrics(history)\n"
   ]
  },
  {
   "cell_type": "code",
   "execution_count": 13,
   "id": "6ff002e8",
   "metadata": {
    "executionInfo": {
     "elapsed": 138,
     "status": "ok",
     "timestamp": 1750936206599,
     "user": {
      "displayName": "m suseel",
      "userId": "01088006816334895188"
     },
     "user_tz": -330
    },
    "id": "6ff002e8"
   },
   "outputs": [],
   "source": [
    "def predict_image_class(model, img_path, target_size=(128, 128)):\n",
    "    img = load_img(img_path, target_size=target_size)\n",
    "    img_array = img_to_array(img) / 255.0\n",
    "    input_array = np.expand_dims(img_array, axis=0)\n",
    "    prediction = model.predict(input_array, verbose=0)\n",
    "    class_idx = np.argmax(prediction)\n",
    "    class_name = le.classes_[class_idx]\n",
    "    print(f\"Predicted: {class_name}\")\n"
   ]
  },
  {
   "cell_type": "code",
   "execution_count": null,
   "id": "e71488a3",
   "metadata": {
    "executionInfo": {
     "elapsed": 332,
     "status": "ok",
     "timestamp": 1750936210911,
     "user": {
      "displayName": "m suseel",
      "userId": "01088006816334895188"
     },
     "user_tz": -330
    },
    "id": "e71488a3"
   },
   "outputs": [],
   "source": [
    "model.save(\"pollen_model.keras\")\n"
   ]
  },
  {
   "cell_type": "code",
   "execution_count": 15,
   "id": "CWNegtMA7ksx",
   "metadata": {
    "executionInfo": {
     "elapsed": 9,
     "status": "ok",
     "timestamp": 1750936446959,
     "user": {
      "displayName": "m suseel",
      "userId": "01088006816334895188"
     },
     "user_tz": -330
    },
    "id": "CWNegtMA7ksx"
   },
   "outputs": [],
   "source": [
    "from tensorflow.keras.preprocessing.image import load_img, img_to_array\n",
    "import random\n",
    "\n",
    "# Class Labels\n",
    "class_names = le.classes_.tolist()\n",
    "\n",
    "# Prediction function for external image (must be preprocessed like training data)\n",
    "def predict_image_class(model, img_path, bbox=None, target_size=(128, 128)):\n",
    "    # Load the original image\n",
    "    img = cv2.imread(img_path)\n",
    "\n",
    "    if img is None:\n",
    "        print(\"❌ Image not found:\", img_path)\n",
    "        return\n",
    "\n",
    "    if bbox:\n",
    "        x1, y1, x2, y2 = bbox\n",
    "        img = img[y1:y2, x1:x2]\n",
    "\n",
    "    # Resize and normalize\n",
    "    img_resized = cv2.resize(img, target_size)\n",
    "    img_normalized = img_resized / 255.0\n",
    "    img_input = np.expand_dims(img_normalized, axis=0)\n",
    "\n",
    "    # Predict\n",
    "    prediction = model.predict(img_input, verbose=0)\n",
    "    predicted_index = np.argmax(prediction)\n",
    "    predicted_label = class_names[predicted_index]\n",
    "\n",
    "    # Output\n",
    "    print(f\"📌 Predicted class index: {predicted_index}\")\n",
    "    print(f\"🏷️ Predicted class label: {predicted_label}\")"
   ]
  },
  {
   "cell_type": "code",
   "execution_count": 16,
   "id": "ydUqegMV8eZE",
   "metadata": {
    "colab": {
     "base_uri": "https://localhost:8080/"
    },
    "executionInfo": {
     "elapsed": 1487,
     "status": "ok",
     "timestamp": 1750936468652,
     "user": {
      "displayName": "m suseel",
      "userId": "01088006816334895188"
     },
     "user_tz": -330
    },
    "id": "ydUqegMV8eZE",
    "outputId": "9195bc5e-39b7-4ca9-c36b-01e5ee439194"
   },
   "outputs": [
    {
     "name": "stdout",
     "output_type": "stream",
     "text": [
      "🖼️ Testing image: 29_jpg.rf.19a23e1b8e9c5ff7d7ec427a1e636cb0.jpg\n",
      "📌 Predicted class index: 13\n",
      "🏷️ Predicted class label: mugwort\n"
     ]
    }
   ],
   "source": [
    "# Test a single random image from the dataset\n",
    "sample = bboxes_df.sample(1).iloc[0]\n",
    "img_file = os.path.join(images_path, sample[\"filename\"])\n",
    "bbox = [int(sample[\"xmin\"]), int(sample[\"ymin\"]), int(sample[\"xmax\"]), int(sample[\"ymax\"])]\n",
    "\n",
    "print(f\"🖼️ Testing image: {sample['filename']}\")\n",
    "predict_image_class(model, img_file, bbox=bbox)"
   ]
  },
  {
   "cell_type": "code",
   "execution_count": 17,
   "id": "bBBeXo9z8jVu",
   "metadata": {
    "colab": {
     "base_uri": "https://localhost:8080/"
    },
    "executionInfo": {
     "elapsed": 2132,
     "status": "ok",
     "timestamp": 1750936495145,
     "user": {
      "displayName": "m suseel",
      "userId": "01088006816334895188"
     },
     "user_tz": -330
    },
    "id": "bBBeXo9z8jVu",
    "outputId": "2006904c-11b4-4bb8-e552-ce862b1b64c1"
   },
   "outputs": [
    {
     "name": "stdout",
     "output_type": "stream",
     "text": [
      "\n",
      "🎯 True label: hill_mustard | Image: --------------------100_jpg.rf.25cdc6b6ed08497378712e4dbe21251d.jpg\n",
      "📌 Predicted class index: 9\n",
      "🏷️ Predicted class label: hill_mustard\n",
      "\n",
      "🎯 True label: fireweed | Image: ---------------------200_jpg.rf.c4faed43ca2124dd631ad305f6533784.jpg\n",
      "📌 Predicted class index: 6\n",
      "🏷️ Predicted class label: fireweed\n",
      "\n",
      "🎯 True label: plantain | Image: 108_jpg.rf.587f24add52989352ec7c0c737095be4.jpg\n",
      "📌 Predicted class index: 17\n",
      "🏷️ Predicted class label: plantain\n",
      "\n",
      "🎯 True label: linden | Image: 61_jpg.rf.254c989ac4e9049db5c7090484b79917.jpg\n",
      "📌 Predicted class index: 10\n",
      "🏷️ Predicted class label: linden\n",
      "\n",
      "🎯 True label: clover | Image: ----------------4_jpg.rf.459066ca75590afe87e2c90e8bc303de.jpg\n",
      "📌 Predicted class index: 5\n",
      "🏷️ Predicted class label: clover\n",
      "\n",
      "🎯 True label: pigweed | Image: 102_jpg.rf.37913e2870dbd914b297b718becd13cb.jpg\n",
      "📌 Predicted class index: 15\n",
      "🏷️ Predicted class label: pigweed\n",
      "\n",
      "🎯 True label: willow | Image: ---------4_jpg.rf.33c6e1698d9d81e168bfeb0573fea78e.jpg\n",
      "📌 Predicted class index: 19\n",
      "🏷️ Predicted class label: willow\n",
      "\n",
      "🎯 True label: grass | Image: 37_jpg.rf.ea39b254118df983e27a0a80725cfada.jpg\n",
      "📌 Predicted class index: 7\n",
      "🏷️ Predicted class label: grass\n",
      "\n",
      "🎯 True label: angelica_garden | Image: --------------------201_jpg.rf.8e231de963ab6600c4c79bf1cb1d18d2.jpg\n",
      "📌 Predicted class index: 2\n",
      "🏷️ Predicted class label: angelica_garden\n",
      "\n",
      "🎯 True label: birch | Image: 807_png_jpg.rf.e29d3fab7a4ec2bfefdf799a3603357e.jpg\n",
      "📌 Predicted class index: 3\n",
      "🏷️ Predicted class label: birch\n",
      "\n",
      "🎯 True label: nettle | Image: 109_jpg.rf.bd39a850c4cdcdcd91fdf099653a7e62.jpg\n",
      "📌 Predicted class index: 14\n",
      "🏷️ Predicted class label: nettle\n",
      "\n",
      "🎯 True label: meadow_pink | Image: ---------4_jpg.rf.3d1f1e6981639f23c19b3ef176bb08ff.jpg\n",
      "📌 Predicted class index: 12\n",
      "🏷️ Predicted class label: meadow_pink\n",
      "\n",
      "🎯 True label: sorrel | Image: 126_jpg.rf.ad9b5fd633a9bd6cbda320a43c6325e8.jpg\n",
      "📌 Predicted class index: 18\n",
      "🏷️ Predicted class label: sorrel\n",
      "\n",
      "🎯 True label: angelica | Image: --------------2--2-_jpg.rf.83cbcad1a56c2fb5201423f57b11dac0.jpg\n",
      "📌 Predicted class index: 1\n",
      "🏷️ Predicted class label: angelica\n",
      "\n",
      "🎯 True label: alder | Image: 14_jpg.rf.49b2a1bbdee79a1bf5eef5de97ec3e0b.jpg\n",
      "📌 Predicted class index: 0\n",
      "🏷️ Predicted class label: alder\n",
      "\n",
      "🎯 True label: pine | Image: 189_jpg.rf.61af5255e98b3d005756fad39d15ec0d.jpg\n",
      "📌 Predicted class index: 16\n",
      "🏷️ Predicted class label: pine\n",
      "\n",
      "🎯 True label: buckwheat | Image: ------------------128_jpg.rf.26a93bb4bd466d12b7a46f628131f762.jpg\n",
      "📌 Predicted class index: 4\n",
      "🏷️ Predicted class label: buckwheat\n",
      "\n",
      "🎯 True label: mugwort | Image: 6_jpg.rf.e23d23d276fa111c3a1a93f144ccf992.jpg\n",
      "📌 Predicted class index: 13\n",
      "🏷️ Predicted class label: mugwort\n",
      "\n",
      "🎯 True label: maple | Image: 48_jpg.rf.b5665f02a24c76acfe49968819b66ef6.jpg\n",
      "📌 Predicted class index: 11\n",
      "🏷️ Predicted class label: maple\n",
      "\n",
      "🎯 True label: hazel | Image: 21_jpg.rf.1ea850f82ad01c0cfbe496b5ef9cc3a3.jpg\n",
      "📌 Predicted class index: 8\n",
      "🏷️ Predicted class label: hazel\n"
     ]
    }
   ],
   "source": [
    "for class_name in bboxes_df[\"class_name\"].unique():\n",
    "    class_rows = bboxes_df[bboxes_df[\"class_name\"] == class_name]\n",
    "    sample = class_rows.sample(1).iloc[0]\n",
    "\n",
    "    img_path = os.path.join(images_path, sample[\"filename\"])\n",
    "    bbox = [int(sample[\"xmin\"]), int(sample[\"ymin\"]), int(sample[\"xmax\"]), int(sample[\"ymax\"])]\n",
    "\n",
    "    print(f\"\\n🎯 True label: {class_name} | Image: {sample['filename']}\")\n",
    "    predict_image_class(model, img_path, bbox=bbox)"
   ]
  },
  {
   "cell_type": "code",
   "execution_count": null,
   "id": "nfT_srb58ppW",
   "metadata": {
    "id": "nfT_srb58ppW"
   },
   "outputs": [],
   "source": []
  }
 ],
 "metadata": {
  "accelerator": "GPU",
  "colab": {
   "gpuType": "T4",
   "provenance": []
  },
  "kernelspec": {
   "display_name": "Python 3",
   "name": "python3"
  },
  "language_info": {
   "codemirror_mode": {
    "name": "ipython",
    "version": 3
   },
   "file_extension": ".py",
   "mimetype": "text/x-python",
   "name": "python",
   "nbconvert_exporter": "python",
   "pygments_lexer": "ipython3",
   "version": "3.11.9"
  }
 },
 "nbformat": 4,
 "nbformat_minor": 5
}
